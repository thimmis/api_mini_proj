{
 "cells": [
  {
   "cell_type": "markdown",
   "metadata": {},
   "source": [
    "This exercise will require you to pull some data from https://data.nasdaq.com/ (formerly Quandl API)."
   ]
  },
  {
   "cell_type": "markdown",
   "metadata": {},
   "source": [
    "As a first step, you will need to register a free account on the https://data.nasdaq.com/ website."
   ]
  },
  {
   "cell_type": "markdown",
   "metadata": {},
   "source": [
    "After you register, you will be provided with a unique API key, that you should store:\n",
    "\n",
    "*Note*: Use a `.env` file and put your key in there and `python-dotenv` to access it in this notebook. \n",
    "\n",
    "The code below uses a key that was used when generating this project but has since been deleted. Never submit your keys to source control. There is a `.env-example` file in this repository to illusrtate what you need. Copy that to a file called `.env` and use your own api key in that `.env` file. Make sure you also have a `.gitignore` file with a line for `.env` added to it. \n",
    "\n",
    "The standard Python gitignore is [here](https://github.com/github/gitignore/blob/master/Python.gitignore) you can just copy that. "
   ]
  },
  {
   "cell_type": "code",
   "execution_count": 1,
   "metadata": {},
   "outputs": [],
   "source": [
    "# get api key from your .env file\n",
    "import os\n",
    "from dotenv import load_dotenv\n",
    "\n",
    "load_dotenv()\n",
    "API_KEY = os.getenv('NASDAQ_API_KEY')"
   ]
  },
  {
   "cell_type": "markdown",
   "metadata": {},
   "source": [
    "Nasdaq Data has a large number of data sources, but, unfortunately, most of them require a Premium subscription. Still, there are also a good number of free datasets."
   ]
  },
  {
   "cell_type": "markdown",
   "metadata": {},
   "source": [
    "For this mini project, we will focus on equities data from the Frankfurt Stock Exhange (FSE), which is available for free. We'll try and analyze the stock prices of a company called Carl Zeiss Meditec, which manufactures tools for eye examinations, as well as medical lasers for laser eye surgery: https://www.zeiss.com/meditec/int/home.html. The company is listed under the stock ticker AFX_X."
   ]
  },
  {
   "cell_type": "markdown",
   "metadata": {},
   "source": [
    "You can find the detailed Nasdaq Data API instructions here: https://docs.data.nasdaq.com/docs/in-depth-usage"
   ]
  },
  {
   "cell_type": "markdown",
   "metadata": {},
   "source": [
    "While there is a dedicated Python package for connecting to the Nasdaq API, we would prefer that you use the *requests* package, which can be easily downloaded using *pip* or *conda*. You can find the documentation for the package here: http://docs.python-requests.org/en/master/ "
   ]
  },
  {
   "cell_type": "markdown",
   "metadata": {},
   "source": [
    "Finally, apart from the *requests* package, you are encouraged to not use any third party Python packages, such as *pandas*, and instead focus on what's available in the Python Standard Library (the *collections* module might come in handy: https://pymotw.com/3/collections/).\n",
    "Also, since you won't have access to DataFrames, you are encouraged to us Python's native data structures - preferably dictionaries, though some questions can also be answered using lists.\n",
    "You can read more on these data structures here: https://docs.python.org/3/tutorial/datastructures.html"
   ]
  },
  {
   "cell_type": "markdown",
   "metadata": {},
   "source": [
    "Keep in mind that the JSON responses you will be getting from the API map almost one-to-one to Python's dictionaries. Unfortunately, they can be very nested, so make sure you read up on indexing dictionaries in the documentation provided above."
   ]
  },
  {
   "cell_type": "code",
   "execution_count": 2,
   "metadata": {},
   "outputs": [],
   "source": [
    "import requests\n",
    "import json\n",
    "from datetime import date"
   ]
  },
  {
   "cell_type": "markdown",
   "metadata": {},
   "source": [
    "Note: API's can change a bit with each version, for this exercise it is reccomended to use the nasdaq api at `https://data.nasdaq.com/api/v3/`. This is the same api as what used to be quandl so `https://www.quandl.com/api/v3/` should work too.\n",
    "\n",
    "Hint: We are looking for the `AFX_X` data on the `datasets/FSE/` dataset."
   ]
  },
  {
   "cell_type": "code",
   "execution_count": 3,
   "metadata": {},
   "outputs": [],
   "source": [
    "# Now, call the Nasdaq API and pull out a small sample of the data (only one day) to get a glimpse\n",
    "# into the JSON structure that will be returned\n",
    "\n",
    "\n",
    "def specify_nasdaq_api_url(exchange,code,date1,date2,api_key):\n",
    "    url = f'https://data.nasdaq.com/api/v3/datasets/{exchange}/{code}.json?start_date={date1}&end_date={date2}&order=asc&api_key={api_key}'\n",
    "    return url\n",
    "\n",
    "def request_data(url):\n",
    "    return requests.get(url)"
   ]
  },
  {
   "cell_type": "code",
   "execution_count": 4,
   "metadata": {},
   "outputs": [],
   "source": [
    "res = request_data(specify_nasdaq_api_url('FSE','AFX_X', '2020-11-30', '2020-12-01',API_KEY))"
   ]
  },
  {
   "cell_type": "code",
   "execution_count": 5,
   "metadata": {},
   "outputs": [
    {
     "name": "stdout",
     "output_type": "stream",
     "text": [
      "{\n",
      "    \"dataset\": {\n",
      "        \"id\": 10095370,\n",
      "        \"dataset_code\": \"AFX_X\",\n",
      "        \"database_code\": \"FSE\",\n",
      "        \"name\": \"Carl Zeiss Meditec (AFX_X)\",\n",
      "        \"description\": \"Stock Prices for Carl Zeiss Meditec (2020-11-02) from the Frankfurt Stock Exchange.<br><br>Trading System: Xetra<br><br>ISIN: DE0005313704\",\n",
      "        \"refreshed_at\": \"2020-12-01T14:48:09.907Z\",\n",
      "        \"newest_available_date\": \"2020-12-01\",\n",
      "        \"oldest_available_date\": \"2000-06-07\",\n",
      "        \"column_names\": [\n",
      "            \"Date\",\n",
      "            \"Open\",\n",
      "            \"High\",\n",
      "            \"Low\",\n",
      "            \"Close\",\n",
      "            \"Change\",\n",
      "            \"Traded Volume\",\n",
      "            \"Turnover\",\n",
      "            \"Last Price of the Day\",\n",
      "            \"Daily Traded Units\",\n",
      "            \"Daily Turnover\"\n",
      "        ],\n",
      "        \"frequency\": \"daily\",\n",
      "        \"type\": \"Time Series\",\n",
      "        \"premium\": false,\n",
      "        \"limit\": null,\n",
      "        \"transform\": null,\n",
      "        \"column_index\": null,\n",
      "        \"start_date\": \"2020-11-30\",\n",
      "        \"end_date\": \"2020-12-01\",\n",
      "        \"data\": [\n",
      "            [\n",
      "                \"2020-11-30\",\n",
      "                111.0,\n",
      "                113.6,\n",
      "                111.0,\n",
      "                112.1,\n",
      "                null,\n",
      "                315.0,\n",
      "                35111.5,\n",
      "                null,\n",
      "                null,\n",
      "                null\n",
      "            ],\n",
      "            [\n",
      "                \"2020-12-01\",\n",
      "                112.2,\n",
      "                112.2,\n",
      "                111.5,\n",
      "                112.0,\n",
      "                null,\n",
      "                51.0,\n",
      "                5703.0,\n",
      "                null,\n",
      "                null,\n",
      "                null\n",
      "            ]\n",
      "        ],\n",
      "        \"collapse\": null,\n",
      "        \"order\": \"asc\",\n",
      "        \"database_id\": 6129\n",
      "    }\n",
      "}\n"
     ]
    }
   ],
   "source": [
    "# Inspect the JSON structure of the object you created, and take note of how nested it is,\n",
    "# as well as the overall structure\n",
    "print(json.dumps(res.json(), indent=4))"
   ]
  },
  {
   "cell_type": "markdown",
   "metadata": {},
   "source": [
    "These are your tasks for this mini project:\n",
    "\n",
    "1. Collect data from the Franfurt Stock Exchange, for the ticker AFX_X, for the whole year 2017 (keep in mind that the date format is YYYY-MM-DD).\n",
    "2. Convert the returned JSON object into a Python dictionary.\n",
    "3. Calculate what the highest and lowest opening prices were for the stock in this period.\n",
    "4. What was the largest change in any one day (based on High and Low price)?\n",
    "5. What was the largest change between any two days (based on Closing Price)?\n",
    "6. What was the average daily trading volume during this year?\n",
    "7. (Optional) What was the median trading volume during this year. (Note: you may need to implement your own function for calculating the median.)"
   ]
  },
  {
   "cell_type": "markdown",
   "metadata": {},
   "source": [
    "    #1&2"
   ]
  },
  {
   "cell_type": "code",
   "execution_count": 6,
   "metadata": {},
   "outputs": [],
   "source": [
    "afx_x_2017 = request_data(specify_nasdaq_api_url('FSE','AFX_X', '2016-12-31', '2017-12-31',API_KEY)) #1\n",
    "afx_x_2017_dict = afx_x_2017.json() #2"
   ]
  },
  {
   "cell_type": "code",
   "execution_count": 7,
   "metadata": {},
   "outputs": [],
   "source": [
    "dates = [entry[0] for entry in afx_x_2017_dict['dataset']['data']]\n",
    "\n",
    "opens = [entry[1] for entry in afx_x_2017_dict['dataset']['data']]\n",
    "nones = [idx for idx, val in enumerate(opens) if val == None]\n",
    "\n",
    "for i in nones[::-1]:\n",
    "    opens.pop(i)\n",
    "    dates.pop(i)"
   ]
  },
  {
   "cell_type": "code",
   "execution_count": 8,
   "metadata": {},
   "outputs": [
    {
     "data": {
      "text/plain": [
       "[74, 75, 85]"
      ]
     },
     "execution_count": 8,
     "metadata": {},
     "output_type": "execute_result"
    }
   ],
   "source": [
    "nones"
   ]
  },
  {
   "cell_type": "code",
   "execution_count": 9,
   "metadata": {},
   "outputs": [
    {
     "data": {
      "text/plain": [
       "[34.99,\n",
       " 35.9,\n",
       " 35.48,\n",
       " 35.02,\n",
       " 34.91,\n",
       " 35.29,\n",
       " 34.8,\n",
       " 34.95,\n",
       " 35.38,\n",
       " 34.98,\n",
       " 34.85,\n",
       " 35.06,\n",
       " 35.04,\n",
       " 35.04,\n",
       " 34.54,\n",
       " 34.04,\n",
       " 34.0,\n",
       " 34.42,\n",
       " 35.07,\n",
       " 34.83,\n",
       " 35.38,\n",
       " 35.24,\n",
       " 34.75,\n",
       " 35.95,\n",
       " 36.02,\n",
       " 36.06,\n",
       " 35.56,\n",
       " 35.98,\n",
       " 36.2,\n",
       " 36.65,\n",
       " 37.37,\n",
       " 38.81,\n",
       " 38.5,\n",
       " 38.8,\n",
       " 38.8,\n",
       " 39.25,\n",
       " 38.85,\n",
       " 39.6,\n",
       " 39.72,\n",
       " 39.77,\n",
       " 39.75,\n",
       " 40.38,\n",
       " 41.19,\n",
       " 41.38,\n",
       " 41.12,\n",
       " 41.25,\n",
       " 41.5,\n",
       " 41.13,\n",
       " 41.61,\n",
       " 41.53,\n",
       " 41.4,\n",
       " 41.2,\n",
       " 41.4,\n",
       " 41.4,\n",
       " 41.47,\n",
       " 41.26,\n",
       " 41.8,\n",
       " 38.25,\n",
       " 39.01,\n",
       " 38.94,\n",
       " 38.73,\n",
       " 38.95,\n",
       " 39.39,\n",
       " 40.02,\n",
       " 39.77,\n",
       " 40.15,\n",
       " 39.5,\n",
       " 41.1,\n",
       " 40.96,\n",
       " 40.9,\n",
       " 41.46,\n",
       " 41.62,\n",
       " 42.02,\n",
       " 42.06,\n",
       " 42.24,\n",
       " 41.94,\n",
       " 42.5,\n",
       " 41.97,\n",
       " 42.01,\n",
       " 41.93,\n",
       " 41.88,\n",
       " 41.51,\n",
       " 42.17,\n",
       " 41.89,\n",
       " 42.2,\n",
       " 41.86,\n",
       " 42.52,\n",
       " 43.0,\n",
       " 41.83,\n",
       " 43.5,\n",
       " 43.4,\n",
       " 45.18,\n",
       " 45.09,\n",
       " 45.15,\n",
       " 45.06,\n",
       " 44.0,\n",
       " 43.74,\n",
       " 44.16,\n",
       " 43.67,\n",
       " 43.92,\n",
       " 44.8,\n",
       " 44.8,\n",
       " 45.61,\n",
       " 45.05,\n",
       " 45.22,\n",
       " 46.12,\n",
       " 46.8,\n",
       " 47.12,\n",
       " 47.01,\n",
       " 47.8,\n",
       " 46.77,\n",
       " 47.31,\n",
       " 46.5,\n",
       " 46.52,\n",
       " 46.34,\n",
       " 45.66,\n",
       " 46.9,\n",
       " 46.48,\n",
       " 47.46,\n",
       " 47.03,\n",
       " 47.29,\n",
       " 46.95,\n",
       " 47.23,\n",
       " 46.68,\n",
       " 45.73,\n",
       " 45.01,\n",
       " 45.29,\n",
       " 45.83,\n",
       " 44.67,\n",
       " 45.5,\n",
       " 44.79,\n",
       " 44.64,\n",
       " 44.94,\n",
       " 44.29,\n",
       " 44.67,\n",
       " 45.07,\n",
       " 45.6,\n",
       " 45.5,\n",
       " 45.06,\n",
       " 45.74,\n",
       " 45.57,\n",
       " 45.31,\n",
       " 44.7,\n",
       " 44.91,\n",
       " 45.16,\n",
       " 45.26,\n",
       " 44.94,\n",
       " 45.24,\n",
       " 45.25,\n",
       " 45.34,\n",
       " 45.13,\n",
       " 45.85,\n",
       " 44.9,\n",
       " 43.5,\n",
       " 41.73,\n",
       " 41.3,\n",
       " 42.12,\n",
       " 42.53,\n",
       " 42.4,\n",
       " 41.88,\n",
       " 42.28,\n",
       " 42.42,\n",
       " 42.46,\n",
       " 42.82,\n",
       " 42.72,\n",
       " 42.64,\n",
       " 42.11,\n",
       " 41.71,\n",
       " 42.0,\n",
       " 42.0,\n",
       " 42.16,\n",
       " 42.38,\n",
       " 43.0,\n",
       " 42.66,\n",
       " 43.0,\n",
       " 42.7,\n",
       " 42.81,\n",
       " 43.21,\n",
       " 42.49,\n",
       " 42.35,\n",
       " 42.29,\n",
       " 42.5,\n",
       " 42.65,\n",
       " 42.54,\n",
       " 42.29,\n",
       " 41.48,\n",
       " 42.3,\n",
       " 42.3,\n",
       " 42.35,\n",
       " 42.0,\n",
       " 43.58,\n",
       " 44.51,\n",
       " 45.36,\n",
       " 46.01,\n",
       " 46.19,\n",
       " 46.2,\n",
       " 45.64,\n",
       " 45.97,\n",
       " 45.58,\n",
       " 45.5,\n",
       " 45.61,\n",
       " 45.8,\n",
       " 46.01,\n",
       " 45.72,\n",
       " 45.08,\n",
       " 44.9,\n",
       " 45.16,\n",
       " 45.01,\n",
       " 45.2,\n",
       " 45.48,\n",
       " 46.53,\n",
       " 46.29,\n",
       " 45.88,\n",
       " 45.0,\n",
       " 45.81,\n",
       " 46.16,\n",
       " 46.42,\n",
       " 47.65,\n",
       " 47.3,\n",
       " 48.38,\n",
       " 48.4,\n",
       " 47.98,\n",
       " 47.09,\n",
       " 47.03,\n",
       " 46.57,\n",
       " 47.25,\n",
       " 48.4,\n",
       " 48.8,\n",
       " 49.11,\n",
       " 49.13,\n",
       " 49.09,\n",
       " 49.64,\n",
       " 48.64,\n",
       " 49.52,\n",
       " 49.5,\n",
       " 51.21,\n",
       " 50.8,\n",
       " 50.89,\n",
       " 51.5,\n",
       " 52.28,\n",
       " 52.29,\n",
       " 52.64,\n",
       " 53.11,\n",
       " 52.7,\n",
       " 52.37,\n",
       " 52.73,\n",
       " 51.88,\n",
       " 51.16,\n",
       " 51.05,\n",
       " 51.45,\n",
       " 51.65,\n",
       " 51.76]"
      ]
     },
     "execution_count": 9,
     "metadata": {},
     "output_type": "execute_result"
    }
   ],
   "source": [
    "opens"
   ]
  },
  {
   "cell_type": "code",
   "execution_count": 10,
   "metadata": {},
   "outputs": [],
   "source": [
    "def get_max_min_open(data, dates = dates):\n",
    "    \n",
    "    max_val = max(data)\n",
    "    min_val = min(data)\n",
    "    \n",
    "    idxmax = data.index(max_val)\n",
    "    idxmin = data.index(min_val)\n",
    "    \n",
    "    strmax = f'Highest open price of ${max_val} occured on {dates[idxmax]}'\n",
    "    strmin = f'Lowest open price of ${min_val} occured on {dates[idxmin]}'\n",
    "    print(strmax,'\\n', strmin)"
   ]
  },
  {
   "cell_type": "markdown",
   "metadata": {},
   "source": [
    "    #3"
   ]
  },
  {
   "cell_type": "code",
   "execution_count": 11,
   "metadata": {
    "scrolled": true
   },
   "outputs": [
    {
     "name": "stdout",
     "output_type": "stream",
     "text": [
      "Highest open price of $53.11 occured on 2017-12-14 \n",
      " Lowest open price of $34.0 occured on 2017-01-24\n"
     ]
    }
   ],
   "source": [
    "get_max_min_open(opens)"
   ]
  },
  {
   "cell_type": "markdown",
   "metadata": {},
   "source": [
    "    #4"
   ]
  },
  {
   "cell_type": "code",
   "execution_count": 12,
   "metadata": {},
   "outputs": [
    {
     "name": "stdout",
     "output_type": "stream",
     "text": [
      "2.8100000000000023\n"
     ]
    }
   ],
   "source": [
    "diffs = [entry[2] - entry[3] for entry in afx_x_2017_dict['dataset']['data']]\n",
    "print(max(diffs))"
   ]
  },
  {
   "cell_type": "markdown",
   "metadata": {},
   "source": [
    "    #5"
   ]
  },
  {
   "cell_type": "code",
   "execution_count": 25,
   "metadata": {},
   "outputs": [],
   "source": [
    "closing = [entry[4] for entry in afx_x_2017_dict['dataset']['data']]\n",
    "closing_shifted = closing[1:]\n",
    "closing_shifted.extend([0])\n",
    "closing_diff = [closing_shifted[i] - closing[i] for i,v in enumerate(closing)]"
   ]
  },
  {
   "cell_type": "markdown",
   "metadata": {},
   "source": [
    "    The greatest increase between days at closing:"
   ]
  },
  {
   "cell_type": "code",
   "execution_count": 27,
   "metadata": {},
   "outputs": [
    {
     "data": {
      "text/plain": [
       "1.7199999999999989"
      ]
     },
     "execution_count": 27,
     "metadata": {},
     "output_type": "execute_result"
    }
   ],
   "source": [
    "max(closing_diff[:-1]) # skip the last value since it is shifted to an unknown value."
   ]
  },
  {
   "cell_type": "markdown",
   "metadata": {},
   "source": [
    "    The greatest decrease between days at closing:"
   ]
  },
  {
   "cell_type": "code",
   "execution_count": 28,
   "metadata": {},
   "outputs": [
    {
     "data": {
      "text/plain": [
       "-2.559999999999995"
      ]
     },
     "execution_count": 28,
     "metadata": {},
     "output_type": "execute_result"
    }
   ],
   "source": [
    "min(closing_diff[:-1])"
   ]
  },
  {
   "cell_type": "markdown",
   "metadata": {},
   "source": [
    "    #6"
   ]
  },
  {
   "cell_type": "code",
   "execution_count": 29,
   "metadata": {},
   "outputs": [],
   "source": [
    "volume = [entry[6] for entry in afx_x_2017_dict['dataset']['data']]"
   ]
  },
  {
   "cell_type": "code",
   "execution_count": 30,
   "metadata": {},
   "outputs": [
    {
     "data": {
      "text/plain": [
       "89124.33725490196"
      ]
     },
     "execution_count": 30,
     "metadata": {},
     "output_type": "execute_result"
    }
   ],
   "source": [
    "sum(volume)/len(volume)"
   ]
  },
  {
   "cell_type": "markdown",
   "metadata": {},
   "source": [
    "    #7"
   ]
  },
  {
   "cell_type": "code",
   "execution_count": 31,
   "metadata": {},
   "outputs": [],
   "source": [
    "def med_odd(vals):\n",
    "    sort_vals = sorted(vals)\n",
    "    mid_val = sort_vals[len(sort_vals) // 2] # get the upper middle value\n",
    "    return mid_val\n",
    "\n",
    "def med_even(vals):\n",
    "    sort_vals = sorted(vals)\n",
    "    mid_val = len(sort_vals) // 2\n",
    "    return (sort_vals[mid_val] + sort_vals[mid_val - 1])/2\n",
    "\n",
    "def median(vals):\n",
    "    return med_even(vals) if  len(vals) %2 ==0 else med_odd(vals)"
   ]
  },
  {
   "cell_type": "code",
   "execution_count": 32,
   "metadata": {},
   "outputs": [
    {
     "data": {
      "text/plain": [
       "76286.0"
      ]
     },
     "execution_count": 32,
     "metadata": {},
     "output_type": "execute_result"
    }
   ],
   "source": [
    "median(volume)"
   ]
  }
 ],
 "metadata": {
  "interpreter": {
   "hash": "7635eb1b9d0fe97add78a7368b6b431c09bb8ad5c42e437d64abdd99821c31ae"
  },
  "kernelspec": {
   "display_name": "Python 3",
   "language": "python",
   "name": "python3"
  },
  "language_info": {
   "codemirror_mode": {
    "name": "ipython",
    "version": 3
   },
   "file_extension": ".py",
   "mimetype": "text/x-python",
   "name": "python",
   "nbconvert_exporter": "python",
   "pygments_lexer": "ipython3",
   "version": "3.8.8"
  }
 },
 "nbformat": 4,
 "nbformat_minor": 4
}
